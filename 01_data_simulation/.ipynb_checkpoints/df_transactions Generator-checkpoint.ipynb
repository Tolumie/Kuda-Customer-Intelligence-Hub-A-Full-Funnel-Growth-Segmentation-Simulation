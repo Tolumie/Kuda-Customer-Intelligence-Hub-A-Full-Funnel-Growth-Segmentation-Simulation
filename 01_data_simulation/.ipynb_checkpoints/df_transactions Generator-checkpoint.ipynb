{
 "cells": [
  {
   "cell_type": "markdown",
   "id": "aa45c30a",
   "metadata": {},
   "source": [
    "\n",
    "##  `df_transactions` Generator\n",
    "\n",
    "We’ll simulate:\n",
    "\n",
    "* \\~2 million transactions (average of 20 per customer)\n",
    "* Across 500 merchants\n",
    "* Over a year\n",
    "* Include fraud markers, timestamp logic, and event types\n",
    "\n",
    "---\n",
    "\n",
    "### Assumptions\n",
    "\n",
    "* Every customer may have 5–30 transactions\n",
    "* Each transaction is linked to a customer and a merchant\n",
    "* Fraud is rare (\\~0.5%–1% flag)\n",
    "* Channels: POS, Transfer, Web, Mobile\n",
    "* Types: Deposit, Withdrawal, Transfer, Payment\n",
    "\n",
    "---\n",
    "\n",
    "\n",
    "\n",
    "| Column             | Description                               |\n",
    "| ------------------ | ----------------------------------------- |\n",
    "| `transaction_id`   | UUID, unique                              |\n",
    "| `customer_id`      | Foreign key                               |\n",
    "| `merchant_id`      | Foreign key                               |\n",
    "| `transaction_date` | Date/time in past year                    |\n",
    "| `amount`           | Float, varies by type                     |\n",
    "| `transaction_type` | deposit / withdrawal / payment / transfer |\n",
    "| `channel`          | POS, Mobile, etc                          |\n",
    "| `is_fraud`         | 0 or 1 — \\~1% of records                  |\n",
    "\n",
    "---\n",
    "\n",
    "###  This Powers:\n",
    "\n",
    "* LTV / CAC\n",
    "* Churn timeline\n",
    "* Funnel breakdowns\n",
    "* Fraud model\n",
    "* A/B campaign outcomes"
   ]
  },
  {
   "cell_type": "markdown",
   "id": "655e0619",
   "metadata": {},
   "source": [
    "---"
   ]
  },
  {
   "cell_type": "markdown",
   "id": "754e16a1",
   "metadata": {},
   "source": [
    "### Dependencies"
   ]
  },
  {
   "cell_type": "code",
   "execution_count": 1,
   "id": "acbe39e7",
   "metadata": {},
   "outputs": [],
   "source": [
    "import pandas as pd\n",
    "import numpy as np\n",
    "import random\n",
    "from faker import Faker\n",
    "from datetime import datetime, timedelta"
   ]
  },
  {
   "cell_type": "code",
   "execution_count": 4,
   "id": "feb96026",
   "metadata": {},
   "outputs": [],
   "source": [
    "fake = Faker()\n",
    "np.random.seed(42)\n",
    "random.seed(42)\n",
    "\n",
    "\n",
    "df_customers = pd.read_csv(\"customers.csv\")\n",
    "df_merchants = pd.read_csv(\"merchants.csv\")\n",
    "# Load your actual customer and merchant IDs\n",
    "customer_ids = df_customers['customer_id'].tolist()\n",
    "merchant_ids = df_merchants['merchant_id'].tolist()"
   ]
  },
  {
   "cell_type": "code",
   "execution_count": null,
   "id": "f153ef9d",
   "metadata": {},
   "outputs": [],
   "source": [
    "# Config\n",
    "transaction_types = ['deposit', 'withdrawal', 'payment', 'transfer']\n",
    "channels = ['POS', 'Mobile', 'Web', 'Transfer']\n",
    "transaction_data = []\n",
    "\n",
    "# For progress logging\n",
    "n_customers = len(customer_ids)\n",
    "\n",
    "for cust_id in customer_ids:\n",
    "    num_txns = random.randint(5, 30)\n",
    "    for _ in range(num_txns):\n",
    "        merchant_id = random.choice(merchant_ids)\n",
    "        txn_date = fake.date_time_between(start_date='-1y', end_date='now')\n",
    "        txn_type = random.choice(transaction_types)\n",
    "        channel = random.choice(channels)\n",
    "\n",
    "        # Amount logic\n",
    "        if txn_type == 'deposit':\n",
    "            amount = round(random.uniform(1000, 100000), 2)\n",
    "        elif txn_type == 'withdrawal':\n",
    "            amount = round(random.uniform(500, 50000), 2)\n",
    "        else:\n",
    "            amount = round(random.uniform(100, 25000), 2)\n",
    "\n",
    "        # Fraud flag (1% chance)\n",
    "        is_fraud = 1 if random.random() < 0.01 else 0\n",
    "\n",
    "        transaction_data.append({\n",
    "            'transaction_id': fake.uuid4(),\n",
    "            'customer_id': cust_id,\n",
    "            'merchant_id': merchant_id,\n",
    "            'transaction_date': txn_date,\n",
    "            'amount': amount,\n",
    "            'transaction_type': txn_type,\n",
    "            'channel': channel,\n",
    "            'is_fraud': is_fraud\n",
    "        })\n",
    "\n",
    "# Create DataFrame\n",
    "df_transactions = pd.DataFrame(transaction_data)\n"
   ]
  },
  {
   "cell_type": "code",
   "execution_count": 10,
   "id": "6bd67613",
   "metadata": {},
   "outputs": [
    {
     "name": "stdout",
     "output_type": "stream",
     "text": [
      "Simulation Succesful\n"
     ]
    }
   ],
   "source": [
    "# Optional: Save to CSV\n",
    "df_transactions.to_csv(\"df_transactions.csv\", index=False)\n",
    "print(\"Simulation Succesful\")"
   ]
  },
  {
   "cell_type": "code",
   "execution_count": 8,
   "id": "27415d0b",
   "metadata": {},
   "outputs": [
    {
     "data": {
      "text/html": [
       "<div>\n",
       "<style scoped>\n",
       "    .dataframe tbody tr th:only-of-type {\n",
       "        vertical-align: middle;\n",
       "    }\n",
       "\n",
       "    .dataframe tbody tr th {\n",
       "        vertical-align: top;\n",
       "    }\n",
       "\n",
       "    .dataframe thead th {\n",
       "        text-align: right;\n",
       "    }\n",
       "</style>\n",
       "<table border=\"1\" class=\"dataframe\">\n",
       "  <thead>\n",
       "    <tr style=\"text-align: right;\">\n",
       "      <th></th>\n",
       "      <th>transaction_id</th>\n",
       "      <th>customer_id</th>\n",
       "      <th>merchant_id</th>\n",
       "      <th>transaction_date</th>\n",
       "      <th>amount</th>\n",
       "      <th>transaction_type</th>\n",
       "      <th>channel</th>\n",
       "      <th>is_fraud</th>\n",
       "    </tr>\n",
       "  </thead>\n",
       "  <tbody>\n",
       "    <tr>\n",
       "      <th>0</th>\n",
       "      <td>e887c181-22c6-4962-88ce-1c8fb8ca1939</td>\n",
       "      <td>1ea79026-d3da-4402-b0a8-89b8a532d475</td>\n",
       "      <td>703ff905-bc41-4081-9797-7b4b03df94c8</td>\n",
       "      <td>2024-10-18 02:47:47</td>\n",
       "      <td>25244.29</td>\n",
       "      <td>deposit</td>\n",
       "      <td>Web</td>\n",
       "      <td>0</td>\n",
       "    </tr>\n",
       "    <tr>\n",
       "      <th>1</th>\n",
       "      <td>03baaec1-3e97-4e0d-b68c-541de032e13a</td>\n",
       "      <td>1ea79026-d3da-4402-b0a8-89b8a532d475</td>\n",
       "      <td>7f2ecadc-b0e2-4c76-8826-86fa2db6b846</td>\n",
       "      <td>2025-06-07 08:30:26</td>\n",
       "      <td>4146.49</td>\n",
       "      <td>deposit</td>\n",
       "      <td>Transfer</td>\n",
       "      <td>0</td>\n",
       "    </tr>\n",
       "    <tr>\n",
       "      <th>2</th>\n",
       "      <td>c8f38e66-6811-45f3-8a89-b800e7ee1847</td>\n",
       "      <td>1ea79026-d3da-4402-b0a8-89b8a532d475</td>\n",
       "      <td>a2926fcb-fbd8-4831-a459-75923475d87c</td>\n",
       "      <td>2024-11-06 01:48:17</td>\n",
       "      <td>71885.94</td>\n",
       "      <td>deposit</td>\n",
       "      <td>Mobile</td>\n",
       "      <td>0</td>\n",
       "    </tr>\n",
       "    <tr>\n",
       "      <th>3</th>\n",
       "      <td>e874650c-b4e1-424d-a20f-f4b93e501091</td>\n",
       "      <td>1ea79026-d3da-4402-b0a8-89b8a532d475</td>\n",
       "      <td>16d73afd-6e9c-4eea-bfd5-e4dfe5405191</td>\n",
       "      <td>2025-01-11 09:29:58</td>\n",
       "      <td>29668.65</td>\n",
       "      <td>withdrawal</td>\n",
       "      <td>Transfer</td>\n",
       "      <td>0</td>\n",
       "    </tr>\n",
       "    <tr>\n",
       "      <th>4</th>\n",
       "      <td>d48b190a-199f-41dc-8430-0a36f4e21174</td>\n",
       "      <td>1ea79026-d3da-4402-b0a8-89b8a532d475</td>\n",
       "      <td>b0b4b207-abfc-47aa-9eae-ef82276737db</td>\n",
       "      <td>2025-02-17 14:20:37</td>\n",
       "      <td>17342.40</td>\n",
       "      <td>withdrawal</td>\n",
       "      <td>Transfer</td>\n",
       "      <td>0</td>\n",
       "    </tr>\n",
       "  </tbody>\n",
       "</table>\n",
       "</div>"
      ],
      "text/plain": [
       "                         transaction_id                           customer_id  \\\n",
       "0  e887c181-22c6-4962-88ce-1c8fb8ca1939  1ea79026-d3da-4402-b0a8-89b8a532d475   \n",
       "1  03baaec1-3e97-4e0d-b68c-541de032e13a  1ea79026-d3da-4402-b0a8-89b8a532d475   \n",
       "2  c8f38e66-6811-45f3-8a89-b800e7ee1847  1ea79026-d3da-4402-b0a8-89b8a532d475   \n",
       "3  e874650c-b4e1-424d-a20f-f4b93e501091  1ea79026-d3da-4402-b0a8-89b8a532d475   \n",
       "4  d48b190a-199f-41dc-8430-0a36f4e21174  1ea79026-d3da-4402-b0a8-89b8a532d475   \n",
       "\n",
       "                            merchant_id    transaction_date    amount  \\\n",
       "0  703ff905-bc41-4081-9797-7b4b03df94c8 2024-10-18 02:47:47  25244.29   \n",
       "1  7f2ecadc-b0e2-4c76-8826-86fa2db6b846 2025-06-07 08:30:26   4146.49   \n",
       "2  a2926fcb-fbd8-4831-a459-75923475d87c 2024-11-06 01:48:17  71885.94   \n",
       "3  16d73afd-6e9c-4eea-bfd5-e4dfe5405191 2025-01-11 09:29:58  29668.65   \n",
       "4  b0b4b207-abfc-47aa-9eae-ef82276737db 2025-02-17 14:20:37  17342.40   \n",
       "\n",
       "  transaction_type   channel  is_fraud  \n",
       "0          deposit       Web         0  \n",
       "1          deposit  Transfer         0  \n",
       "2          deposit    Mobile         0  \n",
       "3       withdrawal  Transfer         0  \n",
       "4       withdrawal  Transfer         0  "
      ]
     },
     "execution_count": 8,
     "metadata": {},
     "output_type": "execute_result"
    }
   ],
   "source": [
    "# Review\n",
    "df_transactions.head()\n"
   ]
  },
  {
   "cell_type": "code",
   "execution_count": 9,
   "id": "acbd2854",
   "metadata": {
    "scrolled": false
   },
   "outputs": [
    {
     "data": {
      "text/plain": [
       "is_fraud\n",
       "0    0.98994\n",
       "1    0.01006\n",
       "Name: proportion, dtype: float64"
      ]
     },
     "execution_count": 9,
     "metadata": {},
     "output_type": "execute_result"
    }
   ],
   "source": [
    "df_transactions['is_fraud'].value_counts(normalize=True)"
   ]
  },
  {
   "cell_type": "code",
   "execution_count": 12,
   "id": "34a1f042",
   "metadata": {},
   "outputs": [
    {
     "name": "stdout",
     "output_type": "stream",
     "text": [
      "<class 'pandas.core.frame.DataFrame'>\n",
      "RangeIndex: 1747780 entries, 0 to 1747779\n",
      "Data columns (total 8 columns):\n",
      " #   Column            Dtype         \n",
      "---  ------            -----         \n",
      " 0   transaction_id    object        \n",
      " 1   customer_id       object        \n",
      " 2   merchant_id       object        \n",
      " 3   transaction_date  datetime64[ns]\n",
      " 4   amount            float64       \n",
      " 5   transaction_type  object        \n",
      " 6   channel           object        \n",
      " 7   is_fraud          int64         \n",
      "dtypes: datetime64[ns](1), float64(1), int64(1), object(5)\n",
      "memory usage: 106.7+ MB\n"
     ]
    }
   ],
   "source": [
    "df_transactions.info()"
   ]
  }
 ],
 "metadata": {
  "kernelspec": {
   "display_name": "Python 3 (ipykernel)",
   "language": "python",
   "name": "python3"
  },
  "language_info": {
   "codemirror_mode": {
    "name": "ipython",
    "version": 3
   },
   "file_extension": ".py",
   "mimetype": "text/x-python",
   "name": "python",
   "nbconvert_exporter": "python",
   "pygments_lexer": "ipython3",
   "version": "3.11.5"
  }
 },
 "nbformat": 4,
 "nbformat_minor": 5
}
