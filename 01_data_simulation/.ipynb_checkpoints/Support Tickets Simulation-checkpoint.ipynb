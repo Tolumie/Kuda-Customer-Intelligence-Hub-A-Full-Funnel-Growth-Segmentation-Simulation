{
 "cells": [
  {
   "cell_type": "markdown",
   "id": "7c2d810b",
   "metadata": {},
   "source": [
    "## Support Tickets Simulation"
   ]
  },
  {
   "cell_type": "markdown",
   "id": "03a021c1",
   "metadata": {},
   "source": [
    "| Column Name      | Type  | Description                                       |\n",
    "| ---------------- | ----- | ------------------------------------------------- |\n",
    "| ticket\\_id       | UUID  | Unique ID for each support case                   |\n",
    "| customer\\_id     | TEXT  | Link to customer                                  |\n",
    "| ticket\\_date     | DATE  | When they reached support                         |\n",
    "| issue\\_type      | TEXT  | \"App Bug\", \"Login Issue\", \"Fraud Report\", \"Other\" |\n",
    "| resolution\\_time | FLOAT | How long it took to close (in hours)              |\n",
    "| resolved         | INT   | 1 = resolved, 0 = unresolved                      |\n"
   ]
  },
  {
   "cell_type": "markdown",
   "id": "51907fe3",
   "metadata": {},
   "source": [
    "## Code to Simulate Support Tickets\n",
    "##### You can adjust to 100k–300k rows"
   ]
  },
  {
   "cell_type": "code",
   "execution_count": 3,
   "id": "3473cc5c",
   "metadata": {},
   "outputs": [],
   "source": [
    "import pandas as pd\n",
    "import numpy as np\n",
    "from faker import Faker\n",
    "import uuid\n",
    "import random\n",
    "\n",
    "faker = Faker()\n",
    "\n",
    "## Load customers data\n",
    "df_customers = pd.read_csv(\"customers.csv\")"
   ]
  },
  {
   "cell_type": "code",
   "execution_count": 4,
   "id": "2eef86fc",
   "metadata": {},
   "outputs": [
    {
     "name": "stdout",
     "output_type": "stream",
     "text": [
      "Completed ✔\n"
     ]
    }
   ],
   "source": [
    "\n",
    "# Parameters\n",
    "n_tickets = 300_000\n",
    "issue_types = ['App Bug', 'Login Issue', 'Fraud Report', 'Other']\n",
    "\n",
    "# Simulate support tickets\n",
    "support_df = pd.DataFrame({\n",
    "    'ticket_id': [str(uuid.uuid4()) for _ in range(n_tickets)],\n",
    "    'customer_id': np.random.choice(df_customers['customer_id'], size=n_tickets),\n",
    "    'ticket_date': [faker.date_time_between(start_date='-12M', end_date='now') for _ in range(n_tickets)],\n",
    "    'issue_type': np.random.choice(issue_types, size=n_tickets, p=[0.4, 0.3, 0.2, 0.1]),\n",
    "    'resolution_time': np.round(np.random.exponential(scale=12, size=n_tickets), 2),  # Avg ~12 hrs\n",
    "    'resolved': np.random.choice([1, 0], size=n_tickets, p=[0.9, 0.1])\n",
    "})\n",
    "\n",
    "print(\"Completed ✔\")"
   ]
  },
  {
   "cell_type": "code",
   "execution_count": null,
   "id": "12aa610c",
   "metadata": {},
   "outputs": [],
   "source": [
    "support_df.to_csv(\"support_tickets.csv\", index = False)"
   ]
  },
  {
   "cell_type": "code",
   "execution_count": null,
   "id": "8fa7caf4",
   "metadata": {},
   "outputs": [],
   "source": []
  },
  {
   "cell_type": "code",
   "execution_count": null,
   "id": "07f1eb9a",
   "metadata": {},
   "outputs": [],
   "source": []
  },
  {
   "cell_type": "code",
   "execution_count": null,
   "id": "7550228e",
   "metadata": {},
   "outputs": [],
   "source": []
  },
  {
   "cell_type": "code",
   "execution_count": null,
   "id": "649ddee3",
   "metadata": {},
   "outputs": [],
   "source": []
  },
  {
   "cell_type": "markdown",
   "id": "e880a25a",
   "metadata": {},
   "source": [
    "# Needed Libraries\n",
    "\n"
   ]
  },
  {
   "cell_type": "code",
   "execution_count": null,
   "id": "c705a38f",
   "metadata": {},
   "outputs": [],
   "source": []
  },
  {
   "cell_type": "code",
   "execution_count": null,
   "id": "df91b001",
   "metadata": {},
   "outputs": [],
   "source": []
  },
  {
   "cell_type": "code",
   "execution_count": null,
   "id": "ef9763c4",
   "metadata": {},
   "outputs": [],
   "source": []
  },
  {
   "cell_type": "code",
   "execution_count": null,
   "id": "dab64572",
   "metadata": {},
   "outputs": [],
   "source": []
  },
  {
   "cell_type": "code",
   "execution_count": null,
   "id": "13ace2ce",
   "metadata": {},
   "outputs": [],
   "source": []
  }
 ],
 "metadata": {
  "kernelspec": {
   "display_name": "Python 3 (ipykernel)",
   "language": "python",
   "name": "python3"
  },
  "language_info": {
   "codemirror_mode": {
    "name": "ipython",
    "version": 3
   },
   "file_extension": ".py",
   "mimetype": "text/x-python",
   "name": "python",
   "nbconvert_exporter": "python",
   "pygments_lexer": "ipython3",
   "version": "3.11.5"
  }
 },
 "nbformat": 4,
 "nbformat_minor": 5
}
