{
 "cells": [
  {
   "cell_type": "markdown",
   "id": "3f29ef37",
   "metadata": {},
   "source": [
    "### Merchants.csv"
   ]
  },
  {
   "cell_type": "markdown",
   "id": "740eeddf",
   "metadata": {},
   "source": [
    "| Column          | Type | Notes                       |\n",
    "| --------------- | ---- | --------------------------- |\n",
    "| merchant\\_id    | UUID | Primary key                 |\n",
    "| merchant\\_name  | str  | Business name               |\n",
    "| category        | str  | e.g., Food, Transport, Tech |\n",
    "| city            | str  | Region/city of operation    |\n",
    "| onboarded\\_date | date | When the merchant joined    |\n",
    "| risk\\_flag      | int  | 1 = high risk, 0 = normal   |\n"
   ]
  },
  {
   "cell_type": "code",
   "execution_count": 1,
   "id": "14dcc226",
   "metadata": {},
   "outputs": [
    {
     "name": "stdout",
     "output_type": "stream",
     "text": [
      "✅ Merchants simulated and saved.\n"
     ]
    }
   ],
   "source": [
    "# simulate_merchants.py\n",
    "from faker import Faker\n",
    "import pandas as pd\n",
    "import uuid\n",
    "import random\n",
    "from datetime import datetime, timedelta\n",
    "\n",
    "fake = Faker()\n",
    "Faker.seed(43)\n",
    "random.seed(43)\n",
    "\n",
    "def generate_merchants(n=500):\n",
    "    categories = ['Food', 'Transport', 'Electronics', 'Fashion', 'Travel', 'Healthcare', 'Tech']\n",
    "    cities = ['Lagos', 'Abuja', 'Ibadan', 'Kano', 'PH', 'Enugu']\n",
    "\n",
    "    merchants = []\n",
    "    for _ in range(n):\n",
    "        merchant_id = str(uuid.uuid4())\n",
    "        name = fake.company()\n",
    "        category = random.choice(categories)\n",
    "        city = random.choice(cities)\n",
    "        onboarded_date = fake.date_between(start_date='-3y', end_date='today')\n",
    "        risk_flag = random.choices([0, 1], weights=[0.95, 0.05])[0]  # 5% fraud-prone\n",
    "\n",
    "        merchants.append({\n",
    "            'merchant_id': merchant_id,\n",
    "            'merchant_name': name,\n",
    "            'category': category,\n",
    "            'city': city,\n",
    "            'onboarded_date': onboarded_date,\n",
    "            'risk_flag': risk_flag\n",
    "        })\n",
    "\n",
    "    return pd.DataFrame(merchants)\n",
    "\n",
    "df_merchants = generate_merchants(500)\n",
    "df_merchants.to_csv('merchants.csv', index=False)\n",
    "print(\"✅ Merchants simulated and saved.\")"
   ]
  },
  {
   "cell_type": "code",
   "execution_count": 2,
   "id": "0d51594d",
   "metadata": {},
   "outputs": [
    {
     "name": "stdout",
     "output_type": "stream",
     "text": [
      "<class 'pandas.core.frame.DataFrame'>\n",
      "RangeIndex: 500 entries, 0 to 499\n",
      "Data columns (total 6 columns):\n",
      " #   Column          Non-Null Count  Dtype \n",
      "---  ------          --------------  ----- \n",
      " 0   merchant_id     500 non-null    object\n",
      " 1   merchant_name   500 non-null    object\n",
      " 2   category        500 non-null    object\n",
      " 3   city            500 non-null    object\n",
      " 4   onboarded_date  500 non-null    object\n",
      " 5   risk_flag       500 non-null    int64 \n",
      "dtypes: int64(1), object(5)\n",
      "memory usage: 23.6+ KB\n"
     ]
    }
   ],
   "source": [
    "df_merchants.info()"
   ]
  },
  {
   "cell_type": "markdown",
   "id": "c992b45d",
   "metadata": {},
   "source": [
    "| Column           | 💬 Insight                                                                   |\n",
    "| ---------------- | ---------------------------------------------------------------------------- |\n",
    "| `merchant_id`    | Perfect. Unique key — this links beautifully with transactions.              |\n",
    "| `merchant_name`  | Clean. Useful for dashboard labels, but you can mask this for compliance.    |\n",
    "| `category`       | Excellent for segmentation (e.g., retail vs. tech vs. food).                 |\n",
    "| `city`           | Useful for regional segmentation and city-based fraud heatmaps.              |\n",
    "| `onboarded_date` | Helps track merchant lifecycle and activation funnel.                        |\n",
    "| `risk_flag`      | Brilliant. Will be golden for fraud modeling and explainability (SHAP/LIME). |\n"
   ]
  },
  {
   "cell_type": "code",
   "execution_count": null,
   "id": "eb35501d",
   "metadata": {},
   "outputs": [],
   "source": []
  }
 ],
 "metadata": {
  "kernelspec": {
   "display_name": "Python 3 (ipykernel)",
   "language": "python",
   "name": "python3"
  },
  "language_info": {
   "codemirror_mode": {
    "name": "ipython",
    "version": 3
   },
   "file_extension": ".py",
   "mimetype": "text/x-python",
   "name": "python",
   "nbconvert_exporter": "python",
   "pygments_lexer": "ipython3",
   "version": "3.11.5"
  }
 },
 "nbformat": 4,
 "nbformat_minor": 5
}
