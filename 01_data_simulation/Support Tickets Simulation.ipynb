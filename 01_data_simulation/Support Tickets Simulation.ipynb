{
 "cells": [
  {
   "cell_type": "markdown",
   "id": "8b40ad28",
   "metadata": {},
   "source": [
    "## Support Tickets Simulation"
   ]
  },
  {
   "cell_type": "markdown",
   "id": "7d0dd5a1",
   "metadata": {},
   "source": [
    "| Column Name      | Type  | Description                                       |\n",
    "| ---------------- | ----- | ------------------------------------------------- |\n",
    "| ticket\\_id       | UUID  | Unique ID for each support case                   |\n",
    "| customer\\_id     | TEXT  | Link to customer                                  |\n",
    "| ticket\\_date     | DATE  | When they reached support                         |\n",
    "| issue\\_type      | TEXT  | \"App Bug\", \"Login Issue\", \"Fraud Report\", \"Other\" |\n",
    "| resolution\\_time | FLOAT | How long it took to close (in hours)              |\n",
    "| resolved         | INT   | 1 = resolved, 0 = unresolved                      |\n"
   ]
  },
  {
   "cell_type": "markdown",
   "id": "9126562b",
   "metadata": {},
   "source": [
    "## Code to Simulate Support Tickets\n",
    "##### You can adjust to 100k–300k rows"
   ]
  },
  {
   "cell_type": "code",
   "execution_count": 3,
   "id": "c6736013",
   "metadata": {},
   "outputs": [],
   "source": [
    "import pandas as pd\n",
    "import numpy as np\n",
    "from faker import Faker\n",
    "import uuid\n",
    "import random\n",
    "\n",
    "faker = Faker()\n",
    "\n",
    "## Load customers data\n",
    "df_customers = pd.read_csv(\"customers.csv\")"
   ]
  },
  {
   "cell_type": "code",
   "execution_count": 4,
   "id": "1bbf3132",
   "metadata": {},
   "outputs": [
    {
     "name": "stdout",
     "output_type": "stream",
     "text": [
      "Completed ✔\n"
     ]
    }
   ],
   "source": [
    "\n",
    "# Parameters\n",
    "n_tickets = 300_000\n",
    "issue_types = ['App Bug', 'Login Issue', 'Fraud Report', 'Other']\n",
    "\n",
    "# Simulate support tickets\n",
    "support_df = pd.DataFrame({\n",
    "    'ticket_id': [str(uuid.uuid4()) for _ in range(n_tickets)],\n",
    "    'customer_id': np.random.choice(df_customers['customer_id'], size=n_tickets),\n",
    "    'ticket_date': [faker.date_time_between(start_date='-12M', end_date='now') for _ in range(n_tickets)],\n",
    "    'issue_type': np.random.choice(issue_types, size=n_tickets, p=[0.4, 0.3, 0.2, 0.1]),\n",
    "    'resolution_time': np.round(np.random.exponential(scale=12, size=n_tickets), 2),  # Avg ~12 hrs\n",
    "    'resolved': np.random.choice([1, 0], size=n_tickets, p=[0.9, 0.1])\n",
    "})\n",
    "\n",
    "print(\"Completed ✔\")"
   ]
  },
  {
   "cell_type": "code",
   "execution_count": 5,
   "id": "22dd095e",
   "metadata": {},
   "outputs": [],
   "source": [
    "support_df.to_csv(\"support_tickets.csv\", index = False)"
   ]
  },
  {
   "cell_type": "code",
   "execution_count": 6,
   "id": "20aa0276",
   "metadata": {},
   "outputs": [
    {
     "name": "stdout",
     "output_type": "stream",
     "text": [
      "<class 'pandas.core.frame.DataFrame'>\n",
      "RangeIndex: 300000 entries, 0 to 299999\n",
      "Data columns (total 6 columns):\n",
      " #   Column           Non-Null Count   Dtype         \n",
      "---  ------           --------------   -----         \n",
      " 0   ticket_id        300000 non-null  object        \n",
      " 1   customer_id      300000 non-null  object        \n",
      " 2   ticket_date      300000 non-null  datetime64[ns]\n",
      " 3   issue_type       300000 non-null  object        \n",
      " 4   resolution_time  300000 non-null  float64       \n",
      " 5   resolved         300000 non-null  int32         \n",
      "dtypes: datetime64[ns](1), float64(1), int32(1), object(3)\n",
      "memory usage: 12.6+ MB\n"
     ]
    }
   ],
   "source": [
    "support_df.info()"
   ]
  }
 ],
 "metadata": {
  "kernelspec": {
   "display_name": "Python 3 (ipykernel)",
   "language": "python",
   "name": "python3"
  },
  "language_info": {
   "codemirror_mode": {
    "name": "ipython",
    "version": 3
   },
   "file_extension": ".py",
   "mimetype": "text/x-python",
   "name": "python",
   "nbconvert_exporter": "python",
   "pygments_lexer": "ipython3",
   "version": "3.11.5"
  }
 },
 "nbformat": 4,
 "nbformat_minor": 5
}
