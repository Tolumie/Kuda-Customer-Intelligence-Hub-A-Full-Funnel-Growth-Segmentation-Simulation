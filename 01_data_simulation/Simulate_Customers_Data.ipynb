{
 "cells": [
  {
   "cell_type": "markdown",
   "id": "9f1578ff",
   "metadata": {},
   "source": [
    "## PHASE 1 – DATA ECOSYSTEM SIMULATION\n",
    "\n",
    "### TOOLS NEEDED\n",
    "\n",
    "* Python (main driver)\n",
    "* Libraries: `faker`, `uuid`, `random`, `pandas`, `datetime`\n",
    "* PostgreSQL Desktop or pgAdmin (for ingesting after)\n",
    "* Optional: Excel/CSV preview for each table\n",
    "\n",
    "---\n",
    "\n",
    "## TABLES TO GENERATE\n",
    "\n",
    "We’ll build **5 core tables**, each with 200–5,000 rows (adjustable later):\n",
    "\n",
    "| Table Name     | Description                                         |\n",
    "| -------------- | --------------------------------------------------- |\n",
    "| `customers`    | Kuda business users with churn markers, signup date |\n",
    "| `transactions` | Deposits, withdrawals, transfers with timestamps    |\n",
    "| `merchants`    | Vendors linked to transactions                      |\n",
    "| `campaigns`    | Marketing actions with A/B test tags                |\n",
    "| `tickets`      | Support tickets with categories and resolution info |\n",
    "\n",
    "---\n",
    "\n",
    "## FILE STRUCTURE FOR PHASE 1\n",
    "\n",
    "```\n",
    "01_data_simulation/\n",
    "│\n",
    "├── simulate_customers.py\n",
    "├── simulate_transactions.py\n",
    "├── simulate_merchants.py\n",
    "├── simulate_campaigns.py\n",
    "├── simulate_tickets.py\n",
    "├── init_db.sql                  # Table creation scripts\n",
    "├── data_dictionary.xlsx         # Column descriptions\n",
    "├── ERD.drawio                   # ER diagram (I'll generate this after schema)\n",
    "└── output_data/\n",
    "    ├── customers.csv\n",
    "    ├── transactions.csv\n",
    "    ├── merchants.csv\n",
    "    ├── campaigns.csv\n",
    "    └── tickets.csv\n",
    "```\n",
    "\n",
    "---\n",
    "\n",
    "## STEP 1: SIMULATE CUSTOMERS (Base Script Preview)\n"
   ]
  },
  {
   "cell_type": "markdown",
   "id": "7beb0cb9",
   "metadata": {},
   "source": [
    "### Customer data.csv"
   ]
  },
  {
   "cell_type": "code",
   "execution_count": 1,
   "id": "5d135fd2",
   "metadata": {},
   "outputs": [],
   "source": [
    "# simulate_customers.py\n",
    "from faker import Faker\n",
    "import pandas as pd\n",
    "import uuid\n",
    "import random\n",
    "from datetime import datetime, timedelta\n",
    "\n",
    "fake = Faker()\n",
    "Faker.seed(42)\n",
    "random.seed(42)"
   ]
  },
  {
   "cell_type": "code",
   "execution_count": 3,
   "id": "0764d8d2",
   "metadata": {},
   "outputs": [
    {
     "name": "stdout",
     "output_type": "stream",
     "text": [
      "✅ Customers simulated and saved.\n"
     ]
    }
   ],
   "source": [
    "def generate_customers(n=100000):\n",
    "    data = []\n",
    "    for _ in range(n):\n",
    "        customer_id = str(uuid.uuid4())\n",
    "        name = fake.company()\n",
    "        industry = random.choice(['Retail', 'Tech', 'Logistics', 'Healthcare', 'Finance'])\n",
    "        region = random.choice(['Lagos', 'Abuja', 'Port Harcourt', 'Ibadan'])\n",
    "        signup_date = fake.date_between(start_date='-2y', end_date='today')\n",
    "        is_churned = random.choices([0, 1], weights=[0.85, 0.15])[0]  # 15% churn\n",
    "        ab_group = random.choice(['control', 'treatment'])\n",
    "\n",
    "        data.append({\n",
    "            'customer_id': customer_id,\n",
    "            'business_name': name,\n",
    "            'industry': industry,\n",
    "            'region': region,\n",
    "            'signup_date': signup_date,\n",
    "            'is_churned': is_churned,\n",
    "            'ab_group': ab_group\n",
    "        })\n",
    "\n",
    "    return pd.DataFrame(data)\n",
    "\n",
    "df_customers = generate_customers(100000)\n",
    "df_customers.to_csv('customers.csv', index=False)\n",
    "print(\"✅ Customers simulated and saved.\")"
   ]
  },
  {
   "cell_type": "code",
   "execution_count": 7,
   "id": "a22bb270",
   "metadata": {},
   "outputs": [
    {
     "data": {
      "text/html": [
       "<div>\n",
       "<style scoped>\n",
       "    .dataframe tbody tr th:only-of-type {\n",
       "        vertical-align: middle;\n",
       "    }\n",
       "\n",
       "    .dataframe tbody tr th {\n",
       "        vertical-align: top;\n",
       "    }\n",
       "\n",
       "    .dataframe thead th {\n",
       "        text-align: right;\n",
       "    }\n",
       "</style>\n",
       "<table border=\"1\" class=\"dataframe\">\n",
       "  <thead>\n",
       "    <tr style=\"text-align: right;\">\n",
       "      <th></th>\n",
       "      <th>customer_id</th>\n",
       "      <th>business_name</th>\n",
       "      <th>industry</th>\n",
       "      <th>region</th>\n",
       "      <th>signup_date</th>\n",
       "      <th>is_churned</th>\n",
       "      <th>ab_group</th>\n",
       "    </tr>\n",
       "  </thead>\n",
       "  <tbody>\n",
       "    <tr>\n",
       "      <th>0</th>\n",
       "      <td>1ea79026-d3da-4402-b0a8-89b8a532d475</td>\n",
       "      <td>Short-Phelps</td>\n",
       "      <td>Logistics</td>\n",
       "      <td>Lagos</td>\n",
       "      <td>2024-12-19</td>\n",
       "      <td>0</td>\n",
       "      <td>control</td>\n",
       "    </tr>\n",
       "    <tr>\n",
       "      <th>1</th>\n",
       "      <td>d1f4b956-a41b-40ae-b3ca-90d4baa3f774</td>\n",
       "      <td>Ramos Group</td>\n",
       "      <td>Logistics</td>\n",
       "      <td>Ibadan</td>\n",
       "      <td>2025-06-17</td>\n",
       "      <td>0</td>\n",
       "      <td>control</td>\n",
       "    </tr>\n",
       "    <tr>\n",
       "      <th>2</th>\n",
       "      <td>a7e14e38-5fb8-4c01-9cfb-8f9d65e59feb</td>\n",
       "      <td>Mason PLC</td>\n",
       "      <td>Finance</td>\n",
       "      <td>Ibadan</td>\n",
       "      <td>2024-05-29</td>\n",
       "      <td>0</td>\n",
       "      <td>treatment</td>\n",
       "    </tr>\n",
       "    <tr>\n",
       "      <th>3</th>\n",
       "      <td>72c212e2-79e7-4ba2-89b8-5102b92f33dd</td>\n",
       "      <td>Zimmerman, Mendoza and White</td>\n",
       "      <td>Tech</td>\n",
       "      <td>Abuja</td>\n",
       "      <td>2024-02-22</td>\n",
       "      <td>0</td>\n",
       "      <td>control</td>\n",
       "    </tr>\n",
       "    <tr>\n",
       "      <th>4</th>\n",
       "      <td>95d80777-c500-45c9-8139-4af6e8bde46b</td>\n",
       "      <td>Bradley, Mills and French</td>\n",
       "      <td>Healthcare</td>\n",
       "      <td>Lagos</td>\n",
       "      <td>2024-02-04</td>\n",
       "      <td>1</td>\n",
       "      <td>treatment</td>\n",
       "    </tr>\n",
       "  </tbody>\n",
       "</table>\n",
       "</div>"
      ],
      "text/plain": [
       "                            customer_id                 business_name  \\\n",
       "0  1ea79026-d3da-4402-b0a8-89b8a532d475                  Short-Phelps   \n",
       "1  d1f4b956-a41b-40ae-b3ca-90d4baa3f774                   Ramos Group   \n",
       "2  a7e14e38-5fb8-4c01-9cfb-8f9d65e59feb                     Mason PLC   \n",
       "3  72c212e2-79e7-4ba2-89b8-5102b92f33dd  Zimmerman, Mendoza and White   \n",
       "4  95d80777-c500-45c9-8139-4af6e8bde46b     Bradley, Mills and French   \n",
       "\n",
       "     industry  region signup_date  is_churned   ab_group  \n",
       "0   Logistics   Lagos  2024-12-19           0    control  \n",
       "1   Logistics  Ibadan  2025-06-17           0    control  \n",
       "2     Finance  Ibadan  2024-05-29           0  treatment  \n",
       "3        Tech   Abuja  2024-02-22           0    control  \n",
       "4  Healthcare   Lagos  2024-02-04           1  treatment  "
      ]
     },
     "execution_count": 7,
     "metadata": {},
     "output_type": "execute_result"
    }
   ],
   "source": [
    "df_customers.head()"
   ]
  },
  {
   "cell_type": "code",
   "execution_count": 5,
   "id": "21430687",
   "metadata": {},
   "outputs": [
    {
     "name": "stdout",
     "output_type": "stream",
     "text": [
      "<class 'pandas.core.frame.DataFrame'>\n",
      "RangeIndex: 100000 entries, 0 to 99999\n",
      "Data columns (total 7 columns):\n",
      " #   Column         Non-Null Count   Dtype \n",
      "---  ------         --------------   ----- \n",
      " 0   customer_id    100000 non-null  object\n",
      " 1   business_name  100000 non-null  object\n",
      " 2   industry       100000 non-null  object\n",
      " 3   region         100000 non-null  object\n",
      " 4   signup_date    100000 non-null  object\n",
      " 5   is_churned     100000 non-null  int64 \n",
      " 6   ab_group       100000 non-null  object\n",
      "dtypes: int64(1), object(6)\n",
      "memory usage: 5.3+ MB\n"
     ]
    }
   ],
   "source": [
    "df_customers.info()"
   ]
  }
 ],
 "metadata": {
  "kernelspec": {
   "display_name": "Python 3 (ipykernel)",
   "language": "python",
   "name": "python3"
  },
  "language_info": {
   "codemirror_mode": {
    "name": "ipython",
    "version": 3
   },
   "file_extension": ".py",
   "mimetype": "text/x-python",
   "name": "python",
   "nbconvert_exporter": "python",
   "pygments_lexer": "ipython3",
   "version": "3.11.5"
  }
 },
 "nbformat": 4,
 "nbformat_minor": 5
}
